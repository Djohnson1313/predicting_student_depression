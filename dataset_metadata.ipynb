{
 "cells": [
  {
   "cell_type": "markdown",
   "id": "082f4a2a-730b-4021-b786-bf6ccc15d47a",
   "metadata": {},
   "source": [
    "# Dataset Metadata"
   ]
  },
  {
   "cell_type": "markdown",
   "id": "a3f36799-2aac-4186-8d7e-69115147ed2e",
   "metadata": {},
   "source": [
    "`Variables`\n",
    "\n",
    "- ID: Unique identifier for each individual\n",
    "\n",
    "- Age: Age of the individual\n",
    "\n",
    "- Gender: Male, Female\n",
    "\n",
    "- City: Geographic region\n",
    "\n",
    "- CGPA: Grade Point Average or other academic scores\n",
    "\n",
    "- Sleep Duration: Average daily sleep duration\n",
    "\n",
    "- Profession: The role the individual is in\n",
    "\n",
    "- Work Pressure: scale 1-10\n",
    "\n",
    "- Academic Pressure: scale 1-10\n",
    "\n",
    "- Study Satisfaction: scale 1-10\n",
    "\n",
    "- Job Satisfaction: scale 1-10\n",
    "\n",
    "- Dietary Habits: Eating habits of the individual\n",
    "\n",
    "`Target Variable`\n",
    "\n",
    "- Depression : yes / no"
   ]
  }
 ],
 "metadata": {
  "kernelspec": {
   "display_name": "Python 3 (ipykernel)",
   "language": "python",
   "name": "python3"
  },
  "language_info": {
   "codemirror_mode": {
    "name": "ipython",
    "version": 3
   },
   "file_extension": ".py",
   "mimetype": "text/x-python",
   "name": "python",
   "nbconvert_exporter": "python",
   "pygments_lexer": "ipython3",
   "version": "3.12.3"
  }
 },
 "nbformat": 4,
 "nbformat_minor": 5
}
